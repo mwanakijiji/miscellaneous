{
 "cells": [
  {
   "cell_type": "markdown",
   "metadata": {
    "slideshow": {
     "slide_type": "slide"
    }
   },
   "source": [
    "# What is CyVerse?\n",
    "\n",
    "CyVerse started out in 2008 as the NSF-funded 'iPlant Collaborative' project to help the changing needs of the life sciences, which have increasingly heavy computational demands (think protein folding, genetic phenotyping, etc. etc.), but have historically not had high-performance computing facilities. The project was rechristened 'CyVerse' in 2015.\n",
    "\n",
    "The two co-I's of the grant, Nirav Merchant and Eric Lyons, are life scientists here at UA and offer the course \"Applied Concepts in Cyberinfrastructure\". They had found that researchers were \"actively avoiding advanced computing for their research projects because they viewed it as inflexible, complicated, frustrating, and time-consuming.\"\n",
    "\n",
    "CyVerse offers:\n",
    "1.    Cloud computing\n",
    "2.    Data storage\n",
    "3.    Support"
   ]
  },
  {
   "cell_type": "markdown",
   "metadata": {
    "slideshow": {
     "slide_type": "slide"
    }
   },
   "source": [
    "# Why should an astronomer care about it?\n",
    "\n",
    "CyVerse cyberinfrastructure has the serendipitous effect of providing computational resources to basically anyone here at UA and >8,000 participating institutions. \n",
    "\n",
    "Possible reasons to care: \n",
    "1.    If you have computational needs that are greater than what your office machines can provide, but less than what would usually pass for HPC jobs\n",
    "2.    If you want to calculate something now, and don't want to put your job in a queue\n",
    "3.    Very flexible for access remotely or from low-performance machines (basically all you need to do is 'ssh')\n",
    "\n",
    "I (Eckhart) first heard about it at a <a href=https://uhilgert.github.io/2018-02-10-Tucson/>Software Carpentry</a> workshop. CyVerse made a brief appearance at a talk at the Internal Symposium in fall 2016. \n",
    "\n",
    "Using CyVerse computational resources, I performed MCMC and image-processing-related computations for three publications either published or in prep.). Using resources for which I did not require any extra human approval, it has shortened high-contrast imaging dataset reductions from >10 hours of wall time to ~30-40 minutes by distributing the jobs across several cores.\n",
    "\n",
    "Ya-Lin Wu (grad student close to graduating) and Jared Males (new research professor here) used CyVerse to do image processing involving frame-by-frame parameterization and subtraction of host star PSFs, and brightness determination with fake planet injection. In Males' case, this shortened reduction times from four months to two days. (This was actually a project of the \"Applied Concepts in Cyberinfrastructure\" class.)\n",
    "\n",
    "See, for example,\n",
    "\n",
    "<a href=http://www.cyverse.org/single-post/2016/03/17/In-Search-of-a-Planet>This article</a> on Males et al.'s work with CyVerse. There's also a video featuring the work done by \"Jared Malice\" et al. <a href=\"https://www.youtube.com/watch?v=8tILpvMINYU&feature=youtu.be\">here</a>.\n",
    "\n",
    "'High-Contrast Imaging in the Cloud with klipReduce and Findr' (Haug-Baltzell+ 2016)\n",
    "\n",
    "'An ALMA and MagAO Study of the Substellar Companion GQ Lup B' (Wu+ 2017)"
   ]
  },
  {
   "cell_type": "markdown",
   "metadata": {
    "slideshow": {
     "slide_type": "slide"
    }
   },
   "source": [
    "<img src=\"chart.png\">"
   ]
  },
  {
   "cell_type": "markdown",
   "metadata": {
    "slideshow": {
     "slide_type": "slide"
    }
   },
   "source": [
    "# Storage space on with CyVerse Data Store\n",
    "\n",
    "<a href=http://www.cyverse.org/data-store>CyVerse Data Store</a> gives you \"100 GB of data storage, with the ability to request more\". Large file transfers can be facilitated with multiple threads (iRODS iCommands)."
   ]
  },
  {
   "cell_type": "markdown",
   "metadata": {
    "slideshow": {
     "slide_type": "slide"
    }
   },
   "source": [
    "# Virtual machines with CyVerse Atmosphere\n",
    "\n",
    "<a href=http://www.cyverse.org/atmosphere>CyVerse Atmosphere</a> is CyVerse's cloud-computing arm. With it, you can slap together a remote machine with a wide choice of operating system and hardware. \n",
    "\n",
    "Computational work is measured in 'AU' (allocation units?) which you use up and request for more. In my experience, when I make a new request, it is granted somewhere between a couple hours later up to the next weekday morning.\n",
    "\n",
    "More details on the <a href=\"https://wiki.cyverse.org/wiki/display/atmman/Atmosphere+Manual+Table+of+Contents\">CyVerse Atmosphere Wiki</a>"
   ]
  },
  {
   "cell_type": "markdown",
   "metadata": {
    "collapsed": true
   },
   "source": [
    "# Put together an instance\n",
    "\n",
    "1. First, obviously, open a CyVerse account.\n",
    "2. Log in to CyVerse Atmosphere, and go to Projects -> Create New Project. A 'Project' can encompass multiple instances and volumes.\n",
    "3. Once you're in the new Project, go to New -> Instance. An 'Instance' is a fusion of the hardware, operating system, and software of your virtual machine.\n",
    "4. Choose the operating system, number of cores, hard drive size, and RAM that you want.\n",
    "5. Deploy it! (This takes some minutes to build and network.)\n",
    "6. Use the IP address to ssh into the instance, or use the 'Web Shell' option. (The IP address changes each time you suspend and resume an instance.)\n",
    "\n",
    "For lots of details, do not fail to consult the <a href=\"https://pods.iplantcollaborative.org/wiki/dashboard.action\">CyVerse Wiki</a>."
   ]
  },
  {
   "cell_type": "markdown",
   "metadata": {
    "slideshow": {
     "slide_type": "slide"
    }
   },
   "source": [
    "# Configure\n",
    "\n",
    "Once you ssh in for the first time, run the command\n",
    "\n",
    "ezj\n",
    "\n",
    "The CyVerse wizards added this to install a lot of the popular packages you might need. (I recommend also installing Anaconda as an all-in-one installer and an enironment manager. The latter will enable you to switch on-the-fly between versions of Python. For installation instructions, go <a href=https://conda.io/docs/user-guide/install/index.html>here</a>, and see info on managing environments <a href=\"https://conda.io/docs/user-guide/tasks/manage-environments.html#activating-an-environment\">here</a>.)"
   ]
  },
  {
   "cell_type": "markdown",
   "metadata": {
    "slideshow": {
     "slide_type": "slide"
    }
   },
   "source": [
    "# Day-to-day use\n",
    "\n",
    "There are a list of 'Action' buttons on the right-hand side of the instance page. \n",
    "\n",
    "'Report' -> Report a problem\n",
    "'Image' -> Take a snapshot of the instance with the things you've installed on it, for storing and re-use later.\n",
    "'Suspend' -> Pause an instance if you're not using it (If you forget to do this, your AU units will slowly be eaten away!)\n",
    "'Shelve' -> Longer-term storage, without hogging resources (I am told it avoids the risk of the instance being deleted doe to disuse)\n",
    "'Stop' -> Everything powered off, but uses up AU units \n",
    "'Reboot' -> sometimes useful if it gets into a weird state\n",
    "\n",
    "To request more resources, go to the project page and click the button with the circled up arrow."
   ]
  },
  {
   "cell_type": "markdown",
   "metadata": {},
   "source": [
    "# Add an instance or a volume\n",
    "\n",
    "On the project page, click on 'New' and select what you want. If you have created a new volume, you need to 'attach' it (button in the upper right of the project page) to the instance, using the same provider location."
   ]
  },
  {
   "cell_type": "markdown",
   "metadata": {
    "collapsed": true
   },
   "source": [
    "# Let's compare run speeds of a for-loop: local and remote dewarping of 8.4 Mb FITS frames"
   ]
  },
  {
   "cell_type": "markdown",
   "metadata": {
    "slideshow": {
     "slide_type": "slide"
    }
   },
   "source": [
    "# In-person support\n",
    "\n",
    "PhTea: Tues. 8-10 a.m. at the Nucleus Café in the Keating building\n",
    "\n",
    "<a href=https://www.meetup.com/ResBazAZ/events/247026059/>Hacky Hour</a>: Thurs. 4-7 PM, currently at Gentle Ben's"
   ]
  },
  {
   "cell_type": "markdown",
   "metadata": {},
   "source": [
    "# Scaling up: what other pan-university resources are there?\n",
    "\n",
    "<a href=\"https://www.opensciencegrid.org\">Open Science Grid</a> with <a href=\"https://pegasus.isi.edu\">Pegasus</a>\n",
    "\n",
    "<a href=\"https://www.xsede.org\">Exsede</a>\n",
    "\n",
    "<a href=\"https://jetstream-cloud.org\">Jetstream</a>\n",
    "\n",
    "<a href=\"https://www.docker.com\">Docker</a> and <a href=\"https://hub.docker.com\">DockerHub</a>\n",
    "\n",
    "<a href=\"http://singularity.lbl.gov\">Singularity</a> and <a href=\"https://singularity-hub.org\">SingularityHub</a> (note OSG and Exsede use Singularity, not Docker)\n",
    "\n",
    "Learn about cloud computing with containers at <a href=\"http://www.cyverse.org/cc\">Container Camp</a>"
   ]
  },
  {
   "cell_type": "code",
   "execution_count": null,
   "metadata": {
    "collapsed": true
   },
   "outputs": [],
   "source": []
  }
 ],
 "metadata": {
  "celltoolbar": "Slideshow",
  "kernelspec": {
   "display_name": "Python 3",
   "language": "python",
   "name": "python3"
  },
  "language_info": {
   "codemirror_mode": {
    "name": "ipython",
    "version": 3
   },
   "file_extension": ".py",
   "mimetype": "text/x-python",
   "name": "python",
   "nbconvert_exporter": "python",
   "pygments_lexer": "ipython3",
   "version": "3.5.4"
  }
 },
 "nbformat": 4,
 "nbformat_minor": 0
}
